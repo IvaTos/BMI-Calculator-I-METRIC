{
 "cells": [
  {
   "cell_type": "markdown",
   "id": "10de4bc0",
   "metadata": {},
   "source": [
    "## BMI Calculator (METRIC)"
   ]
  },
  {
   "cell_type": "code",
   "execution_count": 26,
   "id": "e7a19b6a",
   "metadata": {},
   "outputs": [
    {
     "name": "stdout",
     "output_type": "stream",
     "text": [
      "Please enter your name: Iva\n",
      "Please enter your weight in kilograms: 74\n",
      "Please enter your height in centimeters: 173\n",
      "Iva, Your BMI is:  24.73\n",
      "Iva, You are in the 'normal weight' category', BRAVO!.\n"
     ]
    }
   ],
   "source": [
    "name = input('Please enter your name: ')\n",
    "weight = int(input('Please enter your weight in kilograms: '))\n",
    "height = int(input('Please enter your height in centimeters: '))\n",
    "bmi = weight / ((height/100)**2)\n",
    "print(f'{name}, Your BMI is: ', round(bmi, 2))\n",
    "\n",
    "if bmi > 0:\n",
    "    if bmi <= 18.5:\n",
    "        print(f\"{name}, You are in the 'underweight' category'.\")\n",
    "    elif bmi > 18.5 and bmi < 24.9:\n",
    "        print(f\"{name}, You are in the 'normal weight' category', BRAVO!.\")\n",
    "    elif bmi > 25 and bmi < 29.9:\n",
    "        print(f\"{name}, You are in the 'overweight' category'.\")\n",
    "    elif bmi >= 30:\n",
    "        print(f\"{name}, You are in the 'obesety' category'.\")    \n",
    "else:\n",
    "    print(f\"Please enter valid inputs {name}.\")"
   ]
  },
  {
   "cell_type": "code",
   "execution_count": null,
   "id": "586e1a0d",
   "metadata": {},
   "outputs": [],
   "source": [
    "# BMI = weight (kg) / [height (m)]2\n",
    "\n",
    "#Underweight = <18.5\n",
    "#Normal weight = 18.5–24.9\n",
    "#Overweight = 25–29.9\n",
    "#Obesity = BMI of 30 or greater"
   ]
  }
 ],
 "metadata": {
  "kernelspec": {
   "display_name": "Python 3 (ipykernel)",
   "language": "python",
   "name": "python3"
  },
  "language_info": {
   "codemirror_mode": {
    "name": "ipython",
    "version": 3
   },
   "file_extension": ".py",
   "mimetype": "text/x-python",
   "name": "python",
   "nbconvert_exporter": "python",
   "pygments_lexer": "ipython3",
   "version": "3.9.12"
  }
 },
 "nbformat": 4,
 "nbformat_minor": 5
}
